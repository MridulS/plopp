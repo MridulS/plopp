{
 "cells": [
  {
   "cell_type": "markdown",
   "id": "c5913ed6-9577-4614-990b-2f80bce1ebf8",
   "metadata": {},
   "source": [
    "# Inspector plot\n",
    "\n",
    "The `inspector` plot is for three-dimensional data.\n",
    "It is similar to the [`slicer`](slicer-plot.ipynb) where an image of a two-dimensional slice of the data is shown,\n",
    "along with a slider to navigate the third dimension.\n",
    "\n",
    "In addition, the inspector tool <i class=\"fas fa-crosshairs\"></i> allows to add points onto the image,\n",
    "which generate one-dimensional slices in the last dimension that are displayed in a second figure.\n",
    "\n",
    "The points can be dragged/moved, as well as deleted (via a middle click).\n",
    "Below is an example on how to create the `inspector` plot."
   ]
  },
  {
   "cell_type": "code",
   "execution_count": null,
   "id": "b97842b6-aea5-4308-8a11-34a92c4de55d",
   "metadata": {},
   "outputs": [],
   "source": [
    "%matplotlib widget\n",
    "import plopp as pp"
   ]
  },
  {
   "cell_type": "code",
   "execution_count": null,
   "id": "f152c042-c22a-44c2-8ab1-f712cf8f8de8",
   "metadata": {},
   "outputs": [],
   "source": [
    "da = pp.data.dense_data_array(ndim=3, binedges=True)\n",
    "pp.inspector(da)"
   ]
  },
  {
   "cell_type": "markdown",
   "id": "9e892f59-577c-45cb-8e82-0661578de0a9",
   "metadata": {},
   "source": [
    "**Controls**\n",
    "\n",
    "- Left-click to make new point\n",
    "- Left-click and hold on point to move point\n",
    "- Middle-click to delete point"
   ]
  }
 ],
 "metadata": {
  "kernelspec": {
   "display_name": "Python 3 (ipykernel)",
   "language": "python",
   "name": "python3"
  },
  "language_info": {
   "codemirror_mode": {
    "name": "ipython",
    "version": 3
   },
   "file_extension": ".py",
   "mimetype": "text/x-python",
   "name": "python",
   "nbconvert_exporter": "python",
   "pygments_lexer": "ipython3",
   "version": "3.9.13"
  }
 },
 "nbformat": 4,
 "nbformat_minor": 5
}
