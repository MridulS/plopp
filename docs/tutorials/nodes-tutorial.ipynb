{
 "cells": [
  {
   "cell_type": "markdown",
   "id": "3dbc91a9-97a7-46e9-9c47-422a6bad5a94",
   "metadata": {},
   "source": [
    "# Custom interactive interfaces\n",
    "\n",
    "This tutorial will demonstrate how to create custom interactive interfaces to visualize your data with `plopp`.\n",
    "\n",
    "## A set of connected nodes\n",
    "\n",
    "In `plopp`, think of each element in your interface as a set of interconnected nodes in a graph.\n",
    "Each node can have parent nodes, children nodes, and also views attached to them (e.g. figures).\n",
    "\n",
    "At the most basic level, a graph will contain a node (white rectangle) that provides the input data,\n",
    "and a view (grey ellipse) which will be figure to display the data visually.\n",
    "\n",
    "![graph](_static/node_graph.png)"
   ]
  },
  {
   "cell_type": "markdown",
   "id": "f7d6bb03-9d00-4e45-9898-0ff788f3fab4",
   "metadata": {},
   "source": [
    "When the data in the input node changes, the view is notified about the change.\n",
    "It is then up to the view to decide whether it is interested in the notification message (most of the time it is),\n",
    "and if so it requests the data from its parent node and updates the visuals on the figure.\n",
    "\n",
    "### Nodes are callables\n",
    "\n",
    "Nodes in the graph have to be constructed from callables.\n",
    "When a view requests data from a parent node, the callable is called.\n",
    "Typically, the callables will be a function that take in a data array as an input,\n",
    "and returns a data array as an output.\n",
    "\n",
    "Keeping your inputs and outputs as data arrays is useful because figure views will only accept data arrays as input.\n",
    "That said, nodes that produce other outputs are very common, for example when using interactive widgets.\n",
    "\n",
    "In the small example above, the node at the top of the graph has no parents,\n",
    "and its callable is simply a `lambda` function with no arguments that just returns the input data.\n",
    "\n",
    "## Constructing the graph\n",
    "\n",
    "To make our graph above, we begin by generating some 2D data,\n",
    "and feeding that to an `input_node`."
   ]
  },
  {
   "cell_type": "code",
   "execution_count": null,
   "id": "5a0db9e7-ffc2-443b-83eb-7c8904247062",
   "metadata": {},
   "outputs": [],
   "source": [
    "%matplotlib widget\n",
    "import plopp as pp\n",
    "import scipp as sc\n",
    "import numpy as np\n",
    "\n",
    "da = pp.data.dense_data_array(ndim=2)\n",
    "noise = sc.array(dims=da.dims, values=np.random.random(da.shape), unit=da.unit)\n",
    "da.data = (da.data * 5.0) + noise\n",
    "da"
   ]
  },
  {
   "cell_type": "code",
   "execution_count": null,
   "id": "047dba7c-a766-4222-bfe6-81c91f57f77d",
   "metadata": {},
   "outputs": [],
   "source": [
    "a = pp.input_node(da)"
   ]
  },
  {
   "cell_type": "markdown",
   "id": "cd0a32c9-6019-4734-b0ce-ec15db489703",
   "metadata": {},
   "source": [
    "Next, we give that input node as input to a two-dimensional figure:"
   ]
  },
  {
   "cell_type": "code",
   "execution_count": null,
   "id": "5a11ed71-c2c1-4fb7-9f7b-0841dd506f62",
   "metadata": {},
   "outputs": [],
   "source": [
    "fig = pp.figure2d(a)"
   ]
  },
  {
   "cell_type": "markdown",
   "id": "6864bfb0-66c7-4425-8ed4-1349beddb900",
   "metadata": {},
   "source": [
    "We can display our graph using the `show_graph` function,\n",
    "which will accept as input any node in the graph."
   ]
  },
  {
   "cell_type": "code",
   "execution_count": null,
   "id": "f74ed773-2903-4699-8d6c-f9f848a17e6f",
   "metadata": {},
   "outputs": [],
   "source": [
    "pp.show_graph(a)"
   ]
  },
  {
   "cell_type": "markdown",
   "id": "96fb3b9e-4e62-48fa-b697-a22aa72ffc8c",
   "metadata": {},
   "source": [
    "As shown in the graph above, each node has a callable (in this case a `lambda` function) and an `id`.\n",
    "\n",
    "The figure can directly be displayed in the notebook."
   ]
  },
  {
   "cell_type": "code",
   "execution_count": null,
   "id": "9e6365c1-68cf-4c92-8903-726a85aff451",
   "metadata": {},
   "outputs": [],
   "source": [
    "fig"
   ]
  },
  {
   "cell_type": "markdown",
   "id": "9ecf2cbe-7478-4a6b-94b9-b25574b2c9c3",
   "metadata": {},
   "source": [
    "## Expanding the graph\n",
    "\n",
    "Next, say we wish to add a gaussian smoothing step in our graph, before showing the data on the figure.\n",
    "We start with the same `input_node`, but add a second node that performs the smoothing operation before attaching the figure.\n",
    "Because the `gaussian_filter` function requires a kernel width `sigma` as input,\n",
    "we set it using the `partial` function from the `functools` module. "
   ]
  },
  {
   "cell_type": "code",
   "execution_count": null,
   "id": "20abc54f-ec99-4113-9aef-fb7e4133c6aa",
   "metadata": {},
   "outputs": [],
   "source": [
    "a = pp.input_node(da)\n",
    "\n",
    "from scipp.ndimage import gaussian_filter\n",
    "from functools import partial\n",
    "b = pp.node(partial(gaussian_filter, sigma=5))(a)\n",
    "\n",
    "fig = pp.figure2d(b)"
   ]
  },
  {
   "cell_type": "markdown",
   "id": "dcd46e8d-947c-4866-b9c1-a0a70ee56774",
   "metadata": {},
   "source": [
    "The resulting graph has an input node, a smoothing node, and a figure:"
   ]
  },
  {
   "cell_type": "code",
   "execution_count": null,
   "id": "5cf353e2-6968-4741-becc-926bc3c16f34",
   "metadata": {},
   "outputs": [],
   "source": [
    "pp.show_graph(a)"
   ]
  },
  {
   "cell_type": "markdown",
   "id": "b46191da-9516-402f-8f01-ad86014d8bc9",
   "metadata": {},
   "source": [
    "And the resulting figure displays the smoothed data:"
   ]
  },
  {
   "cell_type": "code",
   "execution_count": null,
   "id": "1c986694-254e-4b42-a3f0-ae0d1408a3c1",
   "metadata": {},
   "outputs": [],
   "source": [
    "fig"
   ]
  },
  {
   "cell_type": "markdown",
   "id": "4b69e6aa-88ad-419b-b9af-acd581645e8c",
   "metadata": {},
   "source": [
    "## Adding interactive widgets\n",
    "\n",
    "In the example above, the kernel size `sigma` for the gaussian smoothing was frozen to `5`.\n",
    "But we would actually want to control this via a slider widget.\n",
    "\n",
    "In this case, the smoothing node `b` now needs two inputs: the raw data, and the `sigma`.\n",
    "It gets the raw data from the `input_node`, and the `sigma` from a `widget_node`,\n",
    "which is coupled to a slider from the `ipywidgets` library."
   ]
  },
  {
   "cell_type": "code",
   "execution_count": null,
   "id": "c483edcd-f28c-48c7-a6f4-958964a03bc8",
   "metadata": {},
   "outputs": [],
   "source": [
    "a = pp.input_node(da)\n",
    "\n",
    "import ipywidgets as ipw\n",
    "slider = ipw.IntSlider(min=1, max=10)\n",
    "b = pp.widget_node(slider)\n",
    "\n",
    "c = pp.node(gaussian_filter)(a, sigma=b)\n",
    "\n",
    "fig = pp.figure2d(c)"
   ]
  },
  {
   "cell_type": "markdown",
   "id": "c671a291-bf40-40f7-9e03-75dbd77997b2",
   "metadata": {},
   "source": [
    "As expected, the smoothing node `c` now has two parent nodes:"
   ]
  },
  {
   "cell_type": "code",
   "execution_count": null,
   "id": "743c2fdb-9782-439e-9e25-e3afe5960ad3",
   "metadata": {},
   "outputs": [],
   "source": [
    "pp.show_graph(a)"
   ]
  },
  {
   "cell_type": "markdown",
   "id": "08ce4da8-21ea-4aa4-bedc-4b38f01fdcdd",
   "metadata": {},
   "source": [
    "And we can display the figure and the slider inside the same container:"
   ]
  },
  {
   "cell_type": "code",
   "execution_count": null,
   "id": "9d35d552-af80-46f4-82b3-638d85a2b40a",
   "metadata": {},
   "outputs": [],
   "source": [
    "ipw.VBox([slider, fig])"
   ]
  },
  {
   "cell_type": "markdown",
   "id": "5dd33c3d-1e0b-4989-b0f2-1c1377364312",
   "metadata": {},
   "source": [
    "When something changes in one of the nodes, all the nodes below it in the graph are notified about the change (the children nodes receive a notification, and they, in turn, notify their own children).\n",
    "It is then up to each view to decide whether they are interested in the notification or not (usually, most views are interested in all notifications from parents).\n",
    "If they are, they request data from their parent nodes, which in turn request data from their parents, and so on, until the request has reached the top of the graph.\n",
    "\n",
    "As a result, when the slider is dragged, the smoothing node `c` gets notified and tells the figure that a change has occured.\n",
    "The figure tells node `c` that it wants updated data.\n",
    "Node `c` asks nodes `a` and `b` for their data.\n",
    "`a` returns the raw data, while `b` returns the integer value for the kernel size.\n",
    "`c` then simply send the inputs to the `gaussian_filter` function, and forwards the result to the figure.\n",
    "\n",
    "## Multiple views\n",
    "\n",
    "To go one step further,\n",
    "we now wish to add a second one-dimensional figure that will display the sum of the two-dimensional data along the vertical dimension.\n",
    "On this figure, we would like to display both the original (unsmoothed) data, as well as the smoothed data."
   ]
  },
  {
   "cell_type": "code",
   "execution_count": null,
   "id": "686b3cdf-33b5-4e45-85b9-b2266211c0bc",
   "metadata": {},
   "outputs": [],
   "source": [
    "a = pp.input_node(da)\n",
    "\n",
    "slider = ipw.IntSlider(min=1, max=10)\n",
    "b = pp.widget_node(slider)\n",
    "\n",
    "c = pp.node(gaussian_filter)(a, sigma=b)\n",
    "\n",
    "fig2d = pp.figure2d(c)\n",
    "\n",
    "# Sum the raw data along the vertical dimension\n",
    "d = pp.node(sc.sum, dim='yy')(a)\n",
    "# Sum the smoothed data along the vertical dimension\n",
    "e = pp.node(sc.sum, dim='yy')(c)\n",
    "# Give two nodes to a figure to display both on the same axes\n",
    "fig1d = pp.figure1d(d, e)"
   ]
  },
  {
   "cell_type": "markdown",
   "id": "36c9ea09-8701-465c-beec-f55d371192ee",
   "metadata": {},
   "source": [
    "We check the graph again to make sure that the one-dimensional figure has two inputs,\n",
    "and that both are performing a sum along the `yy` dimension."
   ]
  },
  {
   "cell_type": "code",
   "execution_count": null,
   "id": "81ae3b91-9622-48ca-bc90-f5cbce5ea426",
   "metadata": {},
   "outputs": [],
   "source": [
    "pp.show_graph(a)"
   ]
  },
  {
   "cell_type": "code",
   "execution_count": null,
   "id": "d908a930-a1dc-4e7b-90f4-be8cb7e11d88",
   "metadata": {},
   "outputs": [],
   "source": [
    "ipw.VBox([slider, fig2d, fig1d])"
   ]
  },
  {
   "cell_type": "markdown",
   "id": "4b595fcb-02b8-4fa3-be16-3512e65b2c6a",
   "metadata": {},
   "source": [
    "Because the slider in only affecting the left part of the graph,\n",
    "only the orange markers will update when we drag the slider."
   ]
  }
 ],
 "metadata": {
  "kernelspec": {
   "display_name": "Python 3 (ipykernel)",
   "language": "python",
   "name": "python3"
  },
  "language_info": {
   "codemirror_mode": {
    "name": "ipython",
    "version": 3
   },
   "file_extension": ".py",
   "mimetype": "text/x-python",
   "name": "python",
   "nbconvert_exporter": "python",
   "pygments_lexer": "ipython3",
   "version": "3.9.13"
  }
 },
 "nbformat": 4,
 "nbformat_minor": 5
}
