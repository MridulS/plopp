{
 "cells": [
  {
   "cell_type": "markdown",
   "id": "3d2790da-668b-4dad-91c0-9d73f09bcdab",
   "metadata": {},
   "source": [
    "# Custom interactive interfaces\n",
    "\n",
    "This tutorial will demonstrate how to create custom interactive interfaces to visualize a simple data set with `plopp`."
   ]
  },
  {
   "cell_type": "code",
   "execution_count": null,
   "id": "850173b5-e002-49b4-ab1f-11a7ce3a6401",
   "metadata": {},
   "outputs": [],
   "source": [
    "%matplotlib widget\n",
    "import plopp as pp\n",
    "import scipp as sc\n",
    "import numpy as np"
   ]
  },
  {
   "cell_type": "markdown",
   "id": "53c46a33-2385-4fa8-b440-d1d7dc7ff736",
   "metadata": {},
   "source": [
    "The data is a two-dimensional data array, where the values are generated using a sine function.\n",
    "We also add a small amount of random noise to the values."
   ]
  },
  {
   "cell_type": "code",
   "execution_count": null,
   "id": "43374bbd-3dbd-46f0-b52e-558752a85bb8",
   "metadata": {},
   "outputs": [],
   "source": [
    "nx = 200\n",
    "ny = 150\n",
    "\n",
    "x = np.arange(float(nx))\n",
    "y = np.arange(float(ny))\n",
    "noise = np.random.random((ny, nx))\n",
    "z = 3.0 * np.sin(np.sqrt(x**2 + y.reshape(ny, 1)**2) / 10.0) + noise + 300.0\n",
    "\n",
    "da = sc.DataArray(data=sc.array(dims=['y', 'x'], values=z, unit='K'),\n",
    "                  coords={'x': sc.array(dims=['x'], values=x, unit='m'),\n",
    "                          'y': sc.array(dims=['y'], values=y, unit='m')})\n",
    "\n",
    "da"
   ]
  },
  {
   "cell_type": "markdown",
   "id": "6a96bf2d-3849-4c90-8c67-3838cf50b429",
   "metadata": {},
   "source": [
    "## A set of connected nodes\n",
    "\n",
    "In `plopp`, think of each element in your interface as a set of interconnected nodes in a graph.\n",
    "Each node can have parent nodes, children nodes, and also views attached to them (e.g. figures).\n",
    "\n",
    "At the most basic level, a graph will contain a node (white rectangle) that provides the input data,\n",
    "and a view (grey ellipse) which will be a figure to display the data visually.\n",
    "Note that the figure takes as input the `input_node`."
   ]
  },
  {
   "cell_type": "code",
   "execution_count": null,
   "id": "424ad72b-5f66-46a2-ad29-9ec67847b5f3",
   "metadata": {},
   "outputs": [],
   "source": [
    "in_node = pp.input_node(da)\n",
    "in_node.name = 'Input node'\n",
    "\n",
    "fig = pp.figure2d(in_node)\n",
    "\n",
    "pp.show_graph(in_node)  # display the graph"
   ]
  },
  {
   "cell_type": "markdown",
   "id": "f7d6bb03-9d00-4e45-9898-0ff788f3fab4",
   "metadata": {},
   "source": [
    "When the data in the input node changes, the view is notified about the change.\n",
    "It requests new data from its parent node and updates the visuals on the figure.\n",
    "\n",
    "### Nodes are callables\n",
    "\n",
    "Nodes in the graph have to be constructed from callables.\n",
    "When a view requests data from a parent node, the callable is called.\n",
    "Typically, the callables will be a function that take in a data array as an input,\n",
    "and returns a data array as an output.\n",
    "\n",
    "Keeping your inputs and outputs as data arrays is useful because figure views will only accept data arrays as input.\n",
    "That said, nodes that produce other outputs are very common, for example when using interactive widgets.\n",
    "\n",
    "In the small example above, the node at the top of the graph has no parents,\n",
    "and its callable is simply a `lambda` function with no arguments that just returns the input data.\n",
    "\n",
    "The figure can directly be displayed in the notebook:"
   ]
  },
  {
   "cell_type": "code",
   "execution_count": null,
   "id": "9e6365c1-68cf-4c92-8903-726a85aff451",
   "metadata": {},
   "outputs": [],
   "source": [
    "fig"
   ]
  },
  {
   "cell_type": "markdown",
   "id": "9ecf2cbe-7478-4a6b-94b9-b25574b2c9c3",
   "metadata": {},
   "source": [
    "## Expanding the graph\n",
    "\n",
    "Next, say we wish to add a gaussian smoothing step in our graph, before showing the data on the figure.\n",
    "We start with the same `input_node`, but add a second node that performs the smoothing operation before attaching the figure.\n",
    "Because the `gaussian_filter` function requires a kernel width `sigma` as input, which we set to 5."
   ]
  },
  {
   "cell_type": "code",
   "execution_count": null,
   "id": "20abc54f-ec99-4113-9aef-fb7e4133c6aa",
   "metadata": {},
   "outputs": [],
   "source": [
    "in_node = pp.input_node(da)\n",
    "in_node.name = 'Input node'\n",
    "\n",
    "from scipp.ndimage import gaussian_filter\n",
    "smooth_node = pp.node(gaussian_filter, sigma=5)(in_node)\n",
    "smooth_node.name = 'Smoothing'\n",
    "\n",
    "fig = pp.figure2d(smooth_node)"
   ]
  },
  {
   "cell_type": "markdown",
   "id": "dcd46e8d-947c-4866-b9c1-a0a70ee56774",
   "metadata": {},
   "source": [
    "The resulting graph has an input node, a smoothing node, and a figure:"
   ]
  },
  {
   "cell_type": "code",
   "execution_count": null,
   "id": "5cf353e2-6968-4741-becc-926bc3c16f34",
   "metadata": {},
   "outputs": [],
   "source": [
    "pp.show_graph(in_node)"
   ]
  },
  {
   "cell_type": "markdown",
   "id": "b46191da-9516-402f-8f01-ad86014d8bc9",
   "metadata": {},
   "source": [
    "And the resulting figure displays the smoothed data:"
   ]
  },
  {
   "cell_type": "code",
   "execution_count": null,
   "id": "1c986694-254e-4b42-a3f0-ae0d1408a3c1",
   "metadata": {},
   "outputs": [],
   "source": [
    "fig"
   ]
  },
  {
   "cell_type": "markdown",
   "id": "4b69e6aa-88ad-419b-b9af-acd581645e8c",
   "metadata": {},
   "source": [
    "## Adding interactive widgets\n",
    "\n",
    "In the example above, the kernel size `sigma` for the gaussian smoothing was frozen to `5`.\n",
    "But we would actually want to control this via a slider widget.\n",
    "\n",
    "In this case, the smoothing node now needs two inputs: the raw data, and the `sigma`.\n",
    "It gets the raw data from the `input_node`, and the `sigma` from a `widget_node`,\n",
    "which is coupled to a slider from the `ipywidgets` library."
   ]
  },
  {
   "cell_type": "code",
   "execution_count": null,
   "id": "c483edcd-f28c-48c7-a6f4-958964a03bc8",
   "metadata": {},
   "outputs": [],
   "source": [
    "in_node = pp.input_node(da)\n",
    "in_node.name = 'Input node'\n",
    "\n",
    "import ipywidgets as ipw\n",
    "slider = ipw.IntSlider(min=1, max=20)\n",
    "slider_node = pp.widget_node(slider)\n",
    "slider_node.name = 'Slider node'\n",
    "\n",
    "smooth_node = pp.node(gaussian_filter)(in_node, sigma=slider_node)\n",
    "smooth_node.name = 'Smoothing'\n",
    "\n",
    "fig = pp.figure2d(smooth_node)"
   ]
  },
  {
   "cell_type": "markdown",
   "id": "c671a291-bf40-40f7-9e03-75dbd77997b2",
   "metadata": {},
   "source": [
    "As expected, the smoothing node now has two parent nodes:"
   ]
  },
  {
   "cell_type": "code",
   "execution_count": null,
   "id": "743c2fdb-9782-439e-9e25-e3afe5960ad3",
   "metadata": {},
   "outputs": [],
   "source": [
    "pp.show_graph(in_node)"
   ]
  },
  {
   "cell_type": "markdown",
   "id": "08ce4da8-21ea-4aa4-bedc-4b38f01fdcdd",
   "metadata": {},
   "source": [
    "And we can display the figure and the slider inside the same container:"
   ]
  },
  {
   "cell_type": "code",
   "execution_count": null,
   "id": "9d35d552-af80-46f4-82b3-638d85a2b40a",
   "metadata": {},
   "outputs": [],
   "source": [
    "ipw.VBox([slider, fig])"
   ]
  },
  {
   "cell_type": "markdown",
   "id": "57f6734d-15e4-43da-abfb-c916004152c2",
   "metadata": {},
   "source": [
    "When a change occurs in one of the nodes, all the nodes below it in the graph are notified about the change (the children nodes receive a notification, and they, in turn, notify their own children).\n",
    "It is then up to each view to decide whether they are interested in the notification or not (usually, most views are interested in all notifications from parents).\n",
    "If they are, they request data from their parent nodes, which in turn request data from their parents, and so on, until the request has reached the top of the graph.\n",
    "\n",
    "As a result, when the slider is dragged, the smoothing node gets notified and tells the figure that a change has occured.\n",
    "The figure tells `smooth_node` that it wants updated data.\n",
    "`smooth_node` asks nodes `in_node` and `slider_node` for their data.\n",
    "`in_node` returns the raw data, while `slider_node` returns the integer value for the kernel size.\n",
    "`smooth_node` then simply sends the inputs to the `gaussian_filter` function, and forwards the result to the figure."
   ]
  },
  {
   "cell_type": "markdown",
   "id": "b3a07b8f-7212-491f-a878-e854f23496e6",
   "metadata": {},
   "source": [
    "<div class=\"alert alert-warning\">\n",
    "\n",
    "*Warning*\n",
    "\n",
    "The figure will not update when dragging the slider in the documentation pages.\n",
    "This will only work inside a Jupyter notebook.\n",
    "    \n",
    "</div>"
   ]
  },
  {
   "cell_type": "markdown",
   "id": "4375c234-a3c7-47a6-a48f-ee67837cbf82",
   "metadata": {},
   "source": [
    "## Multiple views\n",
    "\n",
    "To go one step further,\n",
    "we now wish to add a one-dimensional figure that will display the sum of the two-dimensional data along the vertical dimension.\n",
    "On this figure, we would like to display both the original (unsmoothed) data, as well as the smoothed data."
   ]
  },
  {
   "cell_type": "code",
   "execution_count": null,
   "id": "686b3cdf-33b5-4e45-85b9-b2266211c0bc",
   "metadata": {},
   "outputs": [],
   "source": [
    "in_node = pp.input_node(da)\n",
    "in_node.name = 'Input node'\n",
    "\n",
    "slider = ipw.IntSlider(min=1, max=20)\n",
    "slider_node = pp.widget_node(slider)\n",
    "slider_node.name = 'Slider node'\n",
    "\n",
    "smooth_node = pp.node(gaussian_filter)(in_node, sigma=slider_node)\n",
    "smooth_node.name = 'Smoothing'\n",
    "\n",
    "fig2d = pp.figure2d(smooth_node)\n",
    "\n",
    "# Sum the raw data along the vertical dimension\n",
    "sum_raw = pp.node(sc.sum, dim='y')(in_node)\n",
    "sum_raw.name = 'Summing raw data'\n",
    "# Sum the smoothed data along the vertical dimension\n",
    "sum_smoothed = pp.node(sc.sum, dim='y')(smooth_node)\n",
    "sum_smoothed.name = 'Summing smoothed data'\n",
    "# Give two nodes to a figure to display both on the same axes\n",
    "fig1d = pp.figure1d(sum_raw, sum_smoothed)"
   ]
  },
  {
   "cell_type": "markdown",
   "id": "36c9ea09-8701-465c-beec-f55d371192ee",
   "metadata": {},
   "source": [
    "We check the graph again to make sure that the one-dimensional figure has two inputs,\n",
    "and that both are performing a sum along the `y` dimension."
   ]
  },
  {
   "cell_type": "code",
   "execution_count": null,
   "id": "81ae3b91-9622-48ca-bc90-f5cbce5ea426",
   "metadata": {},
   "outputs": [],
   "source": [
    "pp.show_graph(in_node)"
   ]
  },
  {
   "cell_type": "code",
   "execution_count": null,
   "id": "d908a930-a1dc-4e7b-90f4-be8cb7e11d88",
   "metadata": {},
   "outputs": [],
   "source": [
    "ipw.VBox([slider, fig2d, fig1d])"
   ]
  },
  {
   "cell_type": "markdown",
   "id": "4b595fcb-02b8-4fa3-be16-3512e65b2c6a",
   "metadata": {},
   "source": [
    "Because the slider only affects the smoothing part of the graph,\n",
    "only the orange markers will update when we drag the slider."
   ]
  }
 ],
 "metadata": {
  "kernelspec": {
   "display_name": "Python 3 (ipykernel)",
   "language": "python",
   "name": "python3"
  },
  "language_info": {
   "codemirror_mode": {
    "name": "ipython",
    "version": 3
   },
   "file_extension": ".py",
   "mimetype": "text/x-python",
   "name": "python",
   "nbconvert_exporter": "python",
   "pygments_lexer": "ipython3",
   "version": "3.9.13"
  }
 },
 "nbformat": 4,
 "nbformat_minor": 5
}
