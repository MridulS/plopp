{
 "cells": [
  {
   "cell_type": "markdown",
   "id": "e3b19dc9-1dbb-408a-9dbc-9afebc4f05ba",
   "metadata": {},
   "source": [
    "# NYC taxi visualization\n",
    "\n",
    "In this tutorial, we were provided with a dataset which contains information about the number of taxi ride drop-offs in New York City in the year 2015.\n",
    "The raw data (obtained from the [Vaex documentation](https://vaex.readthedocs.io/en/latest/datasets.html))\n",
    "has been histogrammed into three dimensions: latitude, longitude and hour-of-the-day.\n",
    "\n",
    "We will first load the data and inspect its contents:"
   ]
  },
  {
   "cell_type": "code",
   "execution_count": null,
   "id": "52db73df-93c4-4bf6-b461-3b989b132b3c",
   "metadata": {},
   "outputs": [],
   "source": [
    "%matplotlib widget\n",
    "import scipp as sc\n",
    "import plopp as pp\n",
    "\n",
    "data = sc.io.open_hdf5('nyc_taxi_data.h5')\n",
    "data"
   ]
  },
  {
   "cell_type": "markdown",
   "id": "dffddfce-5c59-401c-a682-6191915edf05",
   "metadata": {},
   "source": [
    "The goal of this tutorial is to create an interface with the following:\n",
    "\n",
    "- a central 2D image that shows a longitude-latitude map of the drop-offs, for a single hour-of-the-day slice.\n",
    "- a slider below the main panel which allows to navigate the hour-of-the-day dimension, updating the 2D map.\n",
    "- a 1D figures above below the 2D map, displaying the same data but summed along the latitude dimension.\n",
    "- in the 1D panel, we also want to add a gaussian smoothed version of the 1D curve.\n",
    "\n",
    "The first step is to create an `input_node` for the original data,\n",
    "a `widget_node` that will slice the `hour` dimension,\n",
    "and a `sliced` node that slices the original data according to the index of the slider."
   ]
  },
  {
   "cell_type": "code",
   "execution_count": null,
   "id": "64995824-5f0d-4ee1-a409-46b6c8bf332d",
   "metadata": {},
   "outputs": [],
   "source": [
    "# Input data node\n",
    "a = pp.input_node(data)\n",
    "\n",
    "# Slider node that provides index to slice\n",
    "sl = pp.widgets.SliceWidget(data, ['hour'])\n",
    "w = pp.widget_node(sl)\n",
    "\n",
    "# Node that actually does the slicing\n",
    "sliced = pp.widgets.slice_dims(a, w)\n",
    "\n",
    "pp.show_graph(a)"
   ]
  },
  {
   "cell_type": "markdown",
   "id": "507cf49d-ca13-48b6-8665-938139aea7ca",
   "metadata": {},
   "source": [
    "Next, we add a two-dimensional figure to the bottom node that will display the latitude/longitude map:"
   ]
  },
  {
   "cell_type": "code",
   "execution_count": null,
   "id": "9df642e2-7168-4773-9c8b-1100935f9427",
   "metadata": {},
   "outputs": [],
   "source": [
    "# Add figure to the bottom node\n",
    "fig = pp.figure2d(sliced, norm='log')\n",
    "pp.show_graph(a)"
   ]
  },
  {
   "cell_type": "markdown",
   "id": "cc598601-1bc2-44f0-85ed-c4bb58fb5732",
   "metadata": {},
   "source": [
    "We can now add a node that performs sum along the latitude dimension"
   ]
  },
  {
   "cell_type": "code",
   "execution_count": null,
   "id": "21575fcb-d34d-4d9f-9ed4-e5ec49c93931",
   "metadata": {},
   "outputs": [],
   "source": [
    "# Add a node that performs sum along the latitude dimension\n",
    "sumx = node(sc.sum, dim='latitude')(sliced)\n",
    "show_graph(a)"
   ]
  },
  {
   "cell_type": "markdown",
   "id": "c274393b-6d37-4e12-9eda-e884072337c1",
   "metadata": {},
   "source": [
    "We next add a smoothing node that will smooth the 1d data below the `sliced` node"
   ]
  },
  {
   "cell_type": "code",
   "execution_count": null,
   "id": "91980ef8-8026-4a68-a3c1-a97fdb022e53",
   "metadata": {},
   "outputs": [],
   "source": [
    "# Add a smoothing node that will smooth the 1d data\n",
    "smooth = node(gaussian_filter)(sumx, sigma=input_node(5))\n",
    "show_graph(a)"
   ]
  },
  {
   "cell_type": "markdown",
   "id": "aeb49f9e-c4e4-48df-860d-6ffc03ad2f06",
   "metadata": {},
   "source": [
    "Finally, we add the bottom panel figure, giving it both the `sumx` and `smooth` nodes as inputs,\n",
    "to display both curves on the same axes:"
   ]
  },
  {
   "cell_type": "code",
   "execution_count": null,
   "id": "50c0108b-4ac1-4f84-8606-224959aa1364",
   "metadata": {},
   "outputs": [],
   "source": [
    "# Add figure that plots both smoothed and unsmoothed data\n",
    "fx = figure(sumx, smooth, norm='log')\n",
    "show_graph(a)"
   ]
  },
  {
   "cell_type": "markdown",
   "id": "7d924d9c-da0e-4199-b71e-d531662b9ad2",
   "metadata": {},
   "source": [
    "### Putting it all together"
   ]
  },
  {
   "cell_type": "code",
   "execution_count": null,
   "id": "7292f5ab-cd86-4291-839f-57f1e457fdd8",
   "metadata": {},
   "outputs": [],
   "source": [
    "a = pp.input_node(data)  # Input data node\n",
    "\n",
    "# Slider node that provides index to slice\n",
    "sl = pp.widgets.SliceWidget(data, ['hour'])\n",
    "w = pp.widget_node(sl)\n",
    "\n",
    "sliced = pp.node(lambda da, ind: da['hour', ind])(da=a, ind=w)  # Node that slices the data\n",
    "\n",
    "fig2d = pp.figure2d(sliced, norm='log')  # Figure showing 2d image\n",
    "\n",
    "sumx = pp.node(sc.sum, dim='latitude')(sliced)  # Sum along the latitude dimension\n",
    "\n",
    "smooth = pp.node(gaussian_filter)(sumx, sigma=pp.input_node(5))  # Gaussian smoothing\n",
    "\n",
    "fig1d = pp.figure1d(sumx, smooth, norm='log')  # Two lines on the same figure\n",
    "\n",
    "pp.widgets.Box([sl, fig2d, fig1d])  # Container box"
   ]
  },
  {
   "cell_type": "markdown",
   "id": "767b4c81-eecc-4a36-a00e-5316eb1f6617",
   "metadata": {},
   "source": [
    "Now when we interact with the slider, the 2D map, as well as both curves on the 1D profile will update."
   ]
  }
 ],
 "metadata": {
  "kernelspec": {
   "display_name": "Python 3 (ipykernel)",
   "language": "python",
   "name": "python3"
  },
  "language_info": {
   "codemirror_mode": {
    "name": "ipython",
    "version": 3
   },
   "file_extension": ".py",
   "mimetype": "text/x-python",
   "name": "python",
   "nbconvert_exporter": "python",
   "pygments_lexer": "ipython3",
   "version": "3.9.13"
  }
 },
 "nbformat": 4,
 "nbformat_minor": 5
}
