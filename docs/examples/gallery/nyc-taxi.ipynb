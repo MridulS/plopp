{
 "cells": [
  {
   "cell_type": "markdown",
   "id": "e3b19dc9-1dbb-408a-9dbc-9afebc4f05ba",
   "metadata": {},
   "source": [
    "# NYC taxi visualization\n",
    "\n",
    "In this example, we have a dataset which contains information about the number of taxi ride drop-offs in New York City in the year 2015.\n",
    "The raw data (obtained from the [Vaex documentation](https://vaex.readthedocs.io/en/latest/datasets.html))\n",
    "has been histogrammed into three dimensions: latitude, longitude and hour-of-the-day."
   ]
  },
  {
   "cell_type": "code",
   "execution_count": null,
   "id": "52db73df-93c4-4bf6-b461-3b989b132b3c",
   "metadata": {},
   "outputs": [],
   "source": [
    "%matplotlib widget\n",
    "import scipp as sc\n",
    "import plopp as pp\n",
    "from plopp import widgets\n",
    "from plopp.data import examples\n",
    "from scipp.ndimage import gaussian_filter\n",
    "import ipywidgets as ipw\n",
    "\n",
    "data = sc.io.open_hdf5(examples.nyc_taxi())\n",
    "data"
   ]
  },
  {
   "cell_type": "code",
   "execution_count": null,
   "id": "a8b1129c-5258-49de-a2fe-4e5d51af29ca",
   "metadata": {},
   "outputs": [],
   "source": [
    "# Input data node\n",
    "in_node = pp.input_node(data)\n",
    "in_node.name = 'Input data'\n",
    "\n",
    "# Slider node that provides index to slice\n",
    "slider = ipw.IntSlider(description='Hour:', min=0, max=23)\n",
    "slider_node = pp.widget_node(slider)\n",
    "slider_node.name = 'Slider widget'\n",
    "\n",
    "# Node that actually does the slicing\n",
    "slice_node = pp.node(\n",
    "    lambda da, ind: da['hour', ind])(da=in_node, ind=slider_node)\n",
    "slice_node.name = 'Slice by hour'\n",
    "\n",
    "# Add a 2D figure to show the NYC map\n",
    "fig2d = pp.figure2d(slice_node, norm='log')\n",
    "\n",
    "# Add a node after the slicing to sum along the latitude dimension\n",
    "sum_lat = pp.node(sc.sum, dim='latitude')(slice_node)\n",
    "sum_lat.name = 'Sum along latitude'\n",
    "\n",
    "# Add a node after the sum that performs as Gaussian smoothing\n",
    "smooth = pp.node(gaussian_filter, sigma=5)(sum_lat)\n",
    "smooth.name = 'Gaussian smoothing'\n",
    "\n",
    "# Add a 1D figure that will display both raw sum and smoothed data\n",
    "fig1d = pp.figure1d(sum_lat, smooth, norm='log')\n",
    "\n",
    "widgets.Box([slider, fig2d, fig1d])  # Container box"
   ]
  },
  {
   "cell_type": "markdown",
   "id": "1622d0e3-0f33-45db-a9fd-f112d308e3d0",
   "metadata": {},
   "source": [
    "Below is a preview of the graph of connected nodes:"
   ]
  },
  {
   "cell_type": "code",
   "execution_count": null,
   "id": "4290d222-946b-49f1-b42d-e1404c0326c5",
   "metadata": {},
   "outputs": [],
   "source": [
    "pp.show_graph(in_node)"
   ]
  },
  {
   "cell_type": "code",
   "execution_count": null,
   "id": "28ee06c2-ed57-45b0-aaff-0667f23479b3",
   "metadata": {
    "tags": [
     "nbsphinx-thumbnail"
    ]
   },
   "outputs": [],
   "source": [
    "fig2d.canvas.fig"
   ]
  }
 ],
 "metadata": {
  "kernelspec": {
   "display_name": "Python 3 (ipykernel)",
   "language": "python",
   "name": "python3"
  },
  "language_info": {
   "codemirror_mode": {
    "name": "ipython",
    "version": 3
   },
   "file_extension": ".py",
   "mimetype": "text/x-python",
   "name": "python",
   "nbconvert_exporter": "python",
   "pygments_lexer": "ipython3",
   "version": "3.9.13"
  }
 },
 "nbformat": 4,
 "nbformat_minor": 5
}
