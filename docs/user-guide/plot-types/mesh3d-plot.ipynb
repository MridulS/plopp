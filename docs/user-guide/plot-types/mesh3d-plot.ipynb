{
 "cells": [
  {
   "cell_type": "markdown",
   "id": "0",
   "metadata": {},
   "source": [
    "# 3D mesh plot\n",
    "\n",
    "This notebook illustrates how to render 3D meshes,\n",
    "by supplying a list of vertex positions and vertex indices to construct the mesh faces."
   ]
  },
  {
   "cell_type": "code",
   "execution_count": null,
   "id": "1",
   "metadata": {},
   "outputs": [],
   "source": [
    "import scipp as sc\n",
    "import plopp as pp\n",
    "from plopp.data import examples"
   ]
  },
  {
   "cell_type": "markdown",
   "id": "2",
   "metadata": {},
   "source": [
    "## Loading mesh data\n",
    "\n",
    "We load a file containing the data to construct the [Utah teapot](https://en.wikipedia.org/wiki/Utah_teapot)."
   ]
  },
  {
   "cell_type": "code",
   "execution_count": null,
   "id": "3",
   "metadata": {},
   "outputs": [],
   "source": [
    "dg = sc.io.load_hdf5(examples.teapot())\n",
    "dg"
   ]
  },
  {
   "cell_type": "markdown",
   "id": "4",
   "metadata": {},
   "source": [
    "## Creating a mesh plot\n",
    "\n",
    "We can now send the data to the `mesh3d` function for rendering (we color the mesh according to z position):"
   ]
  },
  {
   "cell_type": "code",
   "execution_count": null,
   "id": "5",
   "metadata": {},
   "outputs": [],
   "source": [
    "pp.mesh3d(\n",
    "    vertices=dg[\"vertices\"],\n",
    "    faces=dg[\"faces\"],\n",
    "    vertexcolors=dg[\"vertices\"].fields.z,\n",
    ")"
   ]
  },
  {
   "cell_type": "markdown",
   "id": "6",
   "metadata": {},
   "source": [
    "## Adding mesh edges\n",
    "\n",
    "It is also possible to show the edges of the mesh using the `edgecolor` argument:"
   ]
  },
  {
   "cell_type": "code",
   "execution_count": null,
   "id": "7",
   "metadata": {},
   "outputs": [],
   "source": [
    "pp.mesh3d(\n",
    "    vertices=dg[\"vertices\"],\n",
    "    faces=dg[\"faces\"],\n",
    "    vertexcolors=dg[\"vertices\"].fields.z,\n",
    "    edgecolor='black',\n",
    ")"
   ]
  }
 ],
 "metadata": {
  "kernelspec": {
   "display_name": "Python 3 (ipykernel)",
   "language": "python",
   "name": "python3"
  },
  "language_info": {
   "codemirror_mode": {
    "name": "ipython",
    "version": 3
   },
   "file_extension": ".py",
   "mimetype": "text/x-python",
   "name": "python",
   "nbconvert_exporter": "python",
   "pygments_lexer": "ipython3"
  }
 },
 "nbformat": 4,
 "nbformat_minor": 5
}
