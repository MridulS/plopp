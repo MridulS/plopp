{
 "cells": [
  {
   "cell_type": "markdown",
   "id": "caf77bfe-e615-477b-8b25-5b9672dd516f",
   "metadata": {},
   "source": [
    "# Scatter 2d plot"
   ]
  },
  {
   "cell_type": "code",
   "execution_count": null,
   "id": "0fe8ee1f-5871-4be6-900b-c2b394ff8981",
   "metadata": {},
   "outputs": [],
   "source": [
    "import plopp as pp\n",
    "import scipp as sc"
   ]
  },
  {
   "cell_type": "markdown",
   "id": "1a571d5e-117d-45a6-ac99-8b20da962243",
   "metadata": {},
   "source": [
    "## Simple scatter plot"
   ]
  },
  {
   "cell_type": "code",
   "execution_count": null,
   "id": "642ff378-02a1-49b9-8fa5-63274b749090",
   "metadata": {},
   "outputs": [],
   "source": [
    "a = pp.data.scatter()\n",
    "pp.scatter(a)"
   ]
  },
  {
   "cell_type": "markdown",
   "id": "934fbd6e-03ff-49c5-b3a9-5f0eb1fa624d",
   "metadata": {},
   "source": [
    "Changing the style of the points can be done via"
   ]
  },
  {
   "cell_type": "code",
   "execution_count": null,
   "id": "7aa3581b-38d1-49b3-a371-03db28bc49dd",
   "metadata": {},
   "outputs": [],
   "source": [
    "pp.scatter(a, color='r', marker='P')"
   ]
  },
  {
   "cell_type": "markdown",
   "id": "21301139-f4fa-4f2b-b2f7-86d3cb713b93",
   "metadata": {},
   "source": [
    "## Scatter plot with multiple inputs"
   ]
  },
  {
   "cell_type": "code",
   "execution_count": null,
   "id": "6097b18c-f83e-41dd-9b77-1099bb6cfdc0",
   "metadata": {},
   "outputs": [],
   "source": [
    "a = pp.data.scatter()\n",
    "b = pp.data.scatter(seed=2) * 10.0\n",
    "b.coords['x'] += sc.scalar(50.0, unit='m')\n",
    "\n",
    "pp.scatter({'a': a, 'b': b})"
   ]
  },
  {
   "cell_type": "markdown",
   "id": "ef402b88-8224-4377-b3bb-2f5b17b56691",
   "metadata": {},
   "source": [
    "Changing the style can be controlled for each input:"
   ]
  },
  {
   "cell_type": "code",
   "execution_count": null,
   "id": "6ca3ace6-a4f6-4019-ab4e-bdbfd40373ce",
   "metadata": {},
   "outputs": [],
   "source": [
    "pp.scatter({'a': a, 'b': b},\n",
    "          color={'a': 'k', 'b': 'g'})"
   ]
  },
  {
   "cell_type": "markdown",
   "id": "f4c0c18e-4ca1-4e7a-8fa5-f87239882fd4",
   "metadata": {},
   "source": [
    "## Scatter plot with a colorbar\n",
    "\n",
    "Requesting a colorbar when calling the `scatter` function will use the value inside the data array as colors:"
   ]
  },
  {
   "cell_type": "code",
   "execution_count": null,
   "id": "34a96bce-8b9f-4368-b588-30b555781de0",
   "metadata": {},
   "outputs": [],
   "source": [
    "pp.scatter(a, cbar=True)"
   ]
  },
  {
   "cell_type": "markdown",
   "id": "73ede39c-3e7c-4cc0-8ee1-2140d8ee8da2",
   "metadata": {},
   "source": [
    "## Scatter plot with sizes"
   ]
  },
  {
   "cell_type": "code",
   "execution_count": null,
   "id": "4df23b2a-bbb0-4f77-9ae9-9f8eef7036cf",
   "metadata": {},
   "outputs": [],
   "source": [
    "a = pp.data.scatter()\n",
    "a.coords['s'] = sc.abs(a.coords['x']) * 5\n",
    "\n",
    "pp.scatter(a, size='s', cbar=True)"
   ]
  }
 ],
 "metadata": {
  "kernelspec": {
   "display_name": "Python 3 (ipykernel)",
   "language": "python",
   "name": "python3"
  },
  "language_info": {
   "codemirror_mode": {
    "name": "ipython",
    "version": 3
   },
   "file_extension": ".py",
   "mimetype": "text/x-python",
   "name": "python",
   "nbconvert_exporter": "python",
   "pygments_lexer": "ipython3"
  }
 },
 "nbformat": 4,
 "nbformat_minor": 5
}
